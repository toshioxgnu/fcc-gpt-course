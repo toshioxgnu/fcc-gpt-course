{
 "cells": [
  {
   "cell_type": "code",
   "execution_count": 7,
   "id": "35cb092b-4acf-4257-9984-87ff6621be8b",
   "metadata": {},
   "outputs": [],
   "source": [
    "import torch \n",
    "import time\n",
    "import numpy as np"
   ]
  },
  {
   "cell_type": "code",
   "execution_count": 4,
   "id": "7c22d0a3-2ddf-48ab-8ba8-f5988c50bd82",
   "metadata": {},
   "outputs": [
    {
     "data": {
      "text/plain": [
       "tensor([-24, -28, -46, -73,   2, -67, -98,  85,  -5,  32,  51, -78,  90,  64,\n",
       "        -73, -63, -91, -94,  26, -82])"
      ]
     },
     "execution_count": 4,
     "metadata": {},
     "output_type": "execute_result"
    }
   ],
   "source": [
    "randint = torch.randint(-100, 100, (20,))\n",
    "randint"
   ]
  },
  {
   "cell_type": "code",
   "execution_count": 5,
   "id": "b2575f3f-a6c8-44e9-abeb-909b97200a4b",
   "metadata": {},
   "outputs": [
    {
     "data": {
      "text/plain": [
       "tensor([[0., 0., 0.],\n",
       "        [0., 0., 0.]])"
      ]
     },
     "execution_count": 5,
     "metadata": {},
     "output_type": "execute_result"
    }
   ],
   "source": [
    "zeros = torch.zeros(2,3)\n",
    "zeros"
   ]
  },
  {
   "cell_type": "code",
   "execution_count": 6,
   "id": "bf826c27-9cd9-4e9b-a043-2c2085807afa",
   "metadata": {},
   "outputs": [
    {
     "data": {
      "text/plain": [
       "tensor([[1., 1., 1., 1., 1., 1., 1., 1., 1., 1.],\n",
       "        [1., 1., 1., 1., 1., 1., 1., 1., 1., 1.],\n",
       "        [1., 1., 1., 1., 1., 1., 1., 1., 1., 1.],\n",
       "        [1., 1., 1., 1., 1., 1., 1., 1., 1., 1.],\n",
       "        [1., 1., 1., 1., 1., 1., 1., 1., 1., 1.],\n",
       "        [1., 1., 1., 1., 1., 1., 1., 1., 1., 1.],\n",
       "        [1., 1., 1., 1., 1., 1., 1., 1., 1., 1.],\n",
       "        [1., 1., 1., 1., 1., 1., 1., 1., 1., 1.],\n",
       "        [1., 1., 1., 1., 1., 1., 1., 1., 1., 1.],\n",
       "        [1., 1., 1., 1., 1., 1., 1., 1., 1., 1.]])"
      ]
     },
     "execution_count": 6,
     "metadata": {},
     "output_type": "execute_result"
    }
   ],
   "source": [
    "ones = torch.ones(10,10)\n",
    "ones"
   ]
  },
  {
   "cell_type": "code",
   "execution_count": 8,
   "id": "978150c7-5fe8-44b0-8110-8b2f01132187",
   "metadata": {},
   "outputs": [
    {
     "data": {
      "text/plain": [
       "tensor([ 0,  1,  2,  3,  4,  5,  6,  7,  8,  9, 10, 11, 12, 13, 14, 15, 16, 17,\n",
       "        18, 19, 20, 21, 22, 23, 24, 25, 26, 27, 28, 29, 30, 31, 32, 33, 34, 35,\n",
       "        36, 37, 38, 39, 40, 41, 42, 43, 44, 45, 46, 47, 48, 49, 50, 51, 52, 53,\n",
       "        54, 55, 56, 57, 58, 59, 60, 61, 62, 63, 64, 65, 66, 67, 68, 69, 70, 71,\n",
       "        72, 73, 74, 75, 76, 77, 78, 79, 80, 81, 82, 83, 84, 85, 86, 87, 88, 89,\n",
       "        90, 91, 92, 93, 94, 95, 96, 97, 98, 99])"
      ]
     },
     "execution_count": 8,
     "metadata": {},
     "output_type": "execute_result"
    }
   ],
   "source": [
    "arange = torch.arange(100)\n",
    "arange"
   ]
  },
  {
   "cell_type": "code",
   "execution_count": 12,
   "id": "b3360df5-0a81-449f-99f8-ededf19e0a7b",
   "metadata": {},
   "outputs": [
    {
     "data": {
      "text/plain": [
       "tensor([ 5.0000,  6.6667,  8.3333, 10.0000, 11.6667, 13.3333, 15.0000, 16.6667,\n",
       "        18.3333, 20.0000])"
      ]
     },
     "execution_count": 12,
     "metadata": {},
     "output_type": "execute_result"
    }
   ],
   "source": [
    "linespace = torch.linspace(5, 20, steps=10)\n",
    "linespace"
   ]
  },
  {
   "cell_type": "code",
   "execution_count": 13,
   "id": "01060e48-7eff-471d-93d0-06b3ddc85150",
   "metadata": {},
   "outputs": [
    {
     "data": {
      "text/plain": [
       "tensor([1.0000e-10, 1.5923e-10, 2.5354e-10, 4.0370e-10, 6.4281e-10, 1.0235e-09,\n",
       "        1.6298e-09, 2.5950e-09, 4.1320e-09, 6.5793e-09, 1.0476e-08, 1.6681e-08,\n",
       "        2.6561e-08, 4.2292e-08, 6.7342e-08, 1.0723e-07, 1.7074e-07, 2.7186e-07,\n",
       "        4.3288e-07, 6.8926e-07, 1.0975e-06, 1.7475e-06, 2.7826e-06, 4.4306e-06,\n",
       "        7.0548e-06, 1.1233e-05, 1.7886e-05, 2.8480e-05, 4.5349e-05, 7.2208e-05,\n",
       "        1.1498e-04, 1.8307e-04, 2.9151e-04, 4.6416e-04, 7.3907e-04, 1.1768e-03,\n",
       "        1.8738e-03, 2.9836e-03, 4.7508e-03, 7.5646e-03, 1.2045e-02, 1.9179e-02,\n",
       "        3.0539e-02, 4.8626e-02, 7.7426e-02, 1.2328e-01, 1.9630e-01, 3.1257e-01,\n",
       "        4.9770e-01, 7.9248e-01, 1.2619e+00, 2.0092e+00, 3.1993e+00, 5.0941e+00,\n",
       "        8.1113e+00, 1.2915e+01, 2.0565e+01, 3.2745e+01, 5.2140e+01, 8.3022e+01,\n",
       "        1.3219e+02, 2.1049e+02, 3.3516e+02, 5.3367e+02, 8.4975e+02, 1.3530e+03,\n",
       "        2.1544e+03, 3.4305e+03, 5.4623e+03, 8.6975e+03, 1.3849e+04, 2.2051e+04,\n",
       "        3.5112e+04, 5.5908e+04, 8.9022e+04, 1.4175e+05, 2.2570e+05, 3.5938e+05,\n",
       "        5.7224e+05, 9.1116e+05, 1.4508e+06, 2.3101e+06, 3.6784e+06, 5.8570e+06,\n",
       "        9.3260e+06, 1.4850e+07, 2.3645e+07, 3.7649e+07, 5.9948e+07, 9.5455e+07,\n",
       "        1.5199e+08, 2.4201e+08, 3.8535e+08, 6.1359e+08, 9.7701e+08, 1.5557e+09,\n",
       "        2.4771e+09, 3.9442e+09, 6.2803e+09, 1.0000e+10])"
      ]
     },
     "execution_count": 13,
     "metadata": {},
     "output_type": "execute_result"
    }
   ],
   "source": [
    "logspace = torch.logspace( start=-10, end=10, steps=100 )\n",
    "logspace"
   ]
  },
  {
   "cell_type": "code",
   "execution_count": 19,
   "id": "45ff3324-91f2-40ac-875b-abf2cdb753d0",
   "metadata": {},
   "outputs": [
    {
     "data": {
      "text/plain": [
       "tensor([[1., 0., 0.,  ..., 0., 0., 0.],\n",
       "        [0., 1., 0.,  ..., 0., 0., 0.],\n",
       "        [0., 0., 1.,  ..., 0., 0., 0.],\n",
       "        ...,\n",
       "        [0., 0., 0.,  ..., 1., 0., 0.],\n",
       "        [0., 0., 0.,  ..., 0., 1., 0.],\n",
       "        [0., 0., 0.,  ..., 0., 0., 1.]])"
      ]
     },
     "execution_count": 19,
     "metadata": {},
     "output_type": "execute_result"
    }
   ],
   "source": [
    "eye = torch.eye( 500 )\n",
    "eye"
   ]
  },
  {
   "cell_type": "code",
   "execution_count": 17,
   "id": "aa47fbf7-df5c-4d45-a0a2-7347b22e9e58",
   "metadata": {},
   "outputs": [
    {
     "data": {
      "text/plain": [
       "tensor([[ 94593452256368, 139931255151840,              64],\n",
       "        [             80,  94614379515287,               0],\n",
       "        [              0,               0,               0],\n",
       "        [              0,               0,               1],\n",
       "        [              0,              97, 139931255151920]])"
      ]
     },
     "execution_count": 17,
     "metadata": {},
     "output_type": "execute_result"
    }
   ],
   "source": [
    "a = torch.empty( (5,3), dtype=torch.int64 )\n",
    "empty_like = torch.empty_like(a)\n",
    "empty_like"
   ]
  },
  {
   "cell_type": "code",
   "execution_count": 6,
   "id": "5d328581-4e32-4aa2-aa5f-fc0335d279b1",
   "metadata": {},
   "outputs": [
    {
     "name": "stdout",
     "output_type": "stream",
     "text": [
      "elapsed time: 2.20012522\n"
     ]
    }
   ],
   "source": [
    "device = 'cuda' if torch.cuda.is_available() else 'cpu' \n",
    "\n",
    "torch_rand1 = torch.rand(10000, 10000).to(device)\n",
    "torch_rand2 = torch.rand(10000, 10000).to(device)\n",
    "np_rand1 = torch.rand(10000, 10000)\n",
    "np_rand2 = torch.rand(10000, 10000)\n",
    "\n",
    "start_time = time.time()\n",
    "\n",
    "rand = (torch_rand1 @ torch_rand2)\n",
    "\n",
    "end_time = time.time()\n",
    "\n",
    "elapsed_time = end_time - start_time\n",
    "print(f'elapsed time: {elapsed_time:.8f}')\n",
    "\n",
    "start_time = time.time()\n",
    "\n",
    "rand = np\n",
    "\n"
   ]
  }
 ],
 "metadata": {
  "kernelspec": {
   "display_name": "cuda-gpt",
   "language": "python",
   "name": "cuda"
  },
  "language_info": {
   "codemirror_mode": {
    "name": "ipython",
    "version": 3
   },
   "file_extension": ".py",
   "mimetype": "text/x-python",
   "name": "python",
   "nbconvert_exporter": "python",
   "pygments_lexer": "ipython3",
   "version": "3.10.12"
  }
 },
 "nbformat": 4,
 "nbformat_minor": 5
}
