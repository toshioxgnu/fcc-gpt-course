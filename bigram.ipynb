{
 "cells": [
  {
   "cell_type": "code",
   "execution_count": 1,
   "id": "19b01dfc-d9fb-4877-9682-2e3be72e6908",
   "metadata": {},
   "outputs": [
    {
     "name": "stdout",
     "output_type": "stream",
     "text": [
      "cpu\n"
     ]
    }
   ],
   "source": [
    "import torch\n",
    "device = 'cuda' if torch.cuda.is_available() else 'cpu' \n",
    "print(device)\n",
    "block_size = 8 \n",
    "batch_size = 4"
   ]
  },
  {
   "cell_type": "code",
   "execution_count": 4,
   "id": "c6a9d5f2-8bde-4829-b3b1-041d777f3857",
   "metadata": {},
   "outputs": [
    {
     "name": "stdout",
     "output_type": "stream",
     "text": [
      "['\\n', ' ', '!', '\"', '#', '&', \"'\", '(', ')', '*', ',', '-', '.', '0', '1', '2', '3', '4', '5', '6', '7', '8', '9', ':', ';', '?', 'A', 'B', 'C', 'D', 'E', 'F', 'G', 'H', 'I', 'J', 'K', 'L', 'M', 'N', 'O', 'P', 'Q', 'R', 'S', 'T', 'U', 'V', 'W', 'Y', 'Z', '[', ']', 'a', 'b', 'c', 'd', 'e', 'f', 'g', 'h', 'i', 'j', 'k', 'l', 'm', 'n', 'o', 'p', 'q', 'r', 's', 't', 'u', 'v', 'w', 'x', 'y', 'z']\n"
     ]
    }
   ],
   "source": [
    "with open(\"wizard_of_oz.txt\", 'r', encoding='utf-8' ) as f:\n",
    "    text = f.read()\n",
    "chars = sorted(set(text))\n",
    "\n",
    "print(chars)\n",
    "vocabulary_size = len(chars)"
   ]
  },
  {
   "cell_type": "code",
   "execution_count": 5,
   "id": "dbc68a69-7557-4f4b-b2ea-287de63fc50a",
   "metadata": {},
   "outputs": [
    {
     "name": "stdout",
     "output_type": "stream",
     "text": [
      "tensor([ 1,  1,  1,  1,  1,  1,  1,  1, 45, 61, 72, 64, 57, 23,  1, 29, 67, 70,\n",
      "        67, 72, 60, 77,  1, 53, 66, 56,  1, 72, 60, 57,  1, 48, 61, 78, 53, 70,\n",
      "        56,  1, 61, 66,  1, 40, 78,  0,  1,  1,  1,  1,  1,  1,  1,  1,  0,  1,\n",
      "         1,  1,  1,  1,  1,  1,  1, 26, 73, 72, 60, 67, 70, 23,  1, 37, 12,  1,\n",
      "        31, 70, 53, 66, 63,  1, 27, 53, 73, 65,  0,  0,  1,  1,  1,  1,  1,  1,\n",
      "         1,  1,  0,  1,  1,  1,  1,  1,  1,  1])\n"
     ]
    }
   ],
   "source": [
    "string_to_int = { ch:i for i,ch in enumerate(chars) }\n",
    "int_to_string = { i:ch for i,ch in enumerate(chars) }\n",
    "encode = lambda s: [string_to_int[c] for c in s]\n",
    "decode = lambda l: ''.join([int_to_string[i] for i in l ])\n",
    "\n",
    "data = torch.tensor(encode(text), dtype=torch.long)\n",
    "print(data[:100])"
   ]
  },
  {
   "cell_type": "code",
   "execution_count": 6,
   "id": "216fd0d2-94ce-4dbe-b928-6a05512159b2",
   "metadata": {},
   "outputs": [],
   "source": [
    "n = int(0.8*len(data))\n",
    "train_data = data[:n]\n",
    "val_data = data[:n]"
   ]
  },
  {
   "cell_type": "code",
   "execution_count": 20,
   "id": "4e7b0007-41a7-43ff-a342-421f9e03af98",
   "metadata": {},
   "outputs": [
    {
     "name": "stdout",
     "output_type": "stream",
     "text": [
      "when input is  tensor([1]) target is 1\n",
      "when input is  tensor([1, 1]) target is 1\n",
      "when input is  tensor([1, 1, 1]) target is 1\n",
      "when input is  tensor([1, 1, 1, 1]) target is 1\n",
      "when input is  tensor([1, 1, 1, 1, 1]) target is 1\n",
      "when input is  tensor([1, 1, 1, 1, 1, 1]) target is 1\n",
      "when input is  tensor([1, 1, 1, 1, 1, 1, 1]) target is 1\n",
      "when input is  tensor([1, 1, 1, 1, 1, 1, 1, 1]) target is 45\n"
     ]
    }
   ],
   "source": [
    "x = train_data[:block_size]\n",
    "y = train_data[1:block_size+1]\n",
    "\n",
    "\n",
    "for t in range(block_size):\n",
    "    context = x[:t+1]\n",
    "    target = y[t]\n",
    "    print(f'when input is  {context} target is {target}')"
   ]
  }
 ],
 "metadata": {
  "kernelspec": {
   "display_name": "Python 3 (ipykernel)",
   "language": "python",
   "name": "python3"
  },
  "language_info": {
   "codemirror_mode": {
    "name": "ipython",
    "version": 3
   },
   "file_extension": ".py",
   "mimetype": "text/x-python",
   "name": "python",
   "nbconvert_exporter": "python",
   "pygments_lexer": "ipython3",
   "version": "3.10.12"
  }
 },
 "nbformat": 4,
 "nbformat_minor": 5
}
